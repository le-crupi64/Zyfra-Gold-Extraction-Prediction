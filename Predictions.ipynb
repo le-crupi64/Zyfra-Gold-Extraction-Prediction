{
 "cells": [
  {
   "cell_type": "markdown",
   "metadata": {},
   "source": [
    "# Zyfra Gold Extraction Prediction \n",
    "---"
   ]
  },
  {
   "cell_type": "markdown",
   "metadata": {},
   "source": [
    " The project task is to utilize machine learning to predict how much gold will result from the processing of gold ore. Two values will be predicted: rougher concentrate recovery and final concentrate recovery. \n",
    "\n",
    " **The Extraction Process:**\n",
    " 1. Flotation: ore is fed into a float bank to separate AU concentrate and rougher tails\n",
    " 2. Purification:  ore is sent through a **two** stage purification process \n",
    "\n",
    "**The following formula will be used to simulate the recovering of gold from gold ore:**\n",
    "\n",
    "$Recovery=_{F*(C-T)}^{C*(F-T)}*100$\n",
    "\n",
    "- C - share of gold in the concentrate right after flotation\n",
    "- F — share of gold in the feed before flotation\n",
    "- T — share of gold in the rougher tails right after flotation "
   ]
  },
  {
   "cell_type": "markdown",
   "metadata": {},
   "source": [
    "### Prepare the Data\n",
    "---"
   ]
  },
  {
   "cell_type": "code",
   "execution_count": 4,
   "metadata": {},
   "outputs": [],
   "source": [
    "# Add Necessary Packages \n",
    "\n",
    "# Data Prep Packages \n",
    "import pandas as pd \n",
    "import numpy as np\n",
    "from sklearn.model_selection import train_test_split\n",
    "from sklearn.preprocessing import StandardScaler\n",
    "\n",
    "# Evaluation Packages\n",
    "from sklearn.metrics import mean_absolute_error\n",
    "\n",
    "# Visualization Package \n",
    "import matplotlib.pyplot as plt"
   ]
  },
  {
   "cell_type": "code",
   "execution_count": 5,
   "metadata": {},
   "outputs": [
    {
     "name": "stdout",
     "output_type": "stream",
     "text": [
      "The data has been read in as full, test, and train.\n"
     ]
    }
   ],
   "source": [
    "# Read in the data \n",
    "try:\n",
    "    # Attempt to read the data\n",
    "    full = pd.read_csv('datasets/gold_recovery_full.csv')\n",
    "    test = pd.read_csv('datasets/gold_recovery_test.csv')\n",
    "    train = pd.read_csv('datasets/gold_recovery_train.csv')\n",
    "    # If successful, print Confirmation\n",
    "    print(\"The data has been read in as full, test, and train.\")\n",
    "except Exception as e:\n",
    "    # If an error occurs, print an error message\n",
    "    print(\"Error reading data:\", e)\n",
    "    print(\"To get the data sets please visit: https://github.com/le-crupi64/Zyfra-Gold-Extraction-Prediction/tree/main/Datasets\")"
   ]
  },
  {
   "cell_type": "markdown",
   "metadata": {},
   "source": [
    "#### Verify Recovery Calculation and Find the Mean Absolute Error Between Calculations and the Feature Value"
   ]
  },
  {
   "cell_type": "code",
   "execution_count": null,
   "metadata": {},
   "outputs": [],
   "source": []
  },
  {
   "cell_type": "markdown",
   "metadata": {},
   "source": [
    "#### Analyze the Features Not Available in the Test Set"
   ]
  },
  {
   "cell_type": "markdown",
   "metadata": {},
   "source": [
    "#### Data Preprocessing"
   ]
  },
  {
   "cell_type": "markdown",
   "metadata": {},
   "source": [
    "### Analyze the Data\n",
    "---"
   ]
  },
  {
   "cell_type": "markdown",
   "metadata": {},
   "source": [
    "### Build and Evaluate Models\n",
    "---"
   ]
  },
  {
   "cell_type": "markdown",
   "metadata": {},
   "source": [
    "### Final Test and Conclusion\n",
    "---"
   ]
  },
  {
   "cell_type": "markdown",
   "metadata": {},
   "source": []
  }
 ],
 "metadata": {
  "kernelspec": {
   "display_name": "Python 3",
   "language": "python",
   "name": "python3"
  },
  "language_info": {
   "codemirror_mode": {
    "name": "ipython",
    "version": 3
   },
   "file_extension": ".py",
   "mimetype": "text/x-python",
   "name": "python",
   "nbconvert_exporter": "python",
   "pygments_lexer": "ipython3",
   "version": "3.10.13"
  }
 },
 "nbformat": 4,
 "nbformat_minor": 2
}
