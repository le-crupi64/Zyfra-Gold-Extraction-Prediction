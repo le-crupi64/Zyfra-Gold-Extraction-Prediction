{
 "cells": [
  {
   "cell_type": "markdown",
   "metadata": {},
   "source": [
    "# Zyfra Gold Extraction Prediction \n",
    "---"
   ]
  },
  {
   "cell_type": "markdown",
   "metadata": {},
   "source": [
    " The project task is to utilize machine learning to predict how much gold will result from the processing of gold ore. Two values will be predicted: rougher concentrate recovery and final concentrate recovery. \n",
    "\n",
    " **The Extraction Process:**\n",
    " 1. Flotation: ore is fed into a float bank to separate AU concentrate and rougher tails\n",
    " 2. Purification:  ore is sent through a **two** stage purification process \n",
    "\n",
    "**The following formula will be used to simulate the recovering of gold from gold ore:**\n",
    "\n",
    "$Recovery=_{F*(C-T)}^{C*(F-T)}*100$\n",
    "\n",
    "- C - share of gold in the concentrate right after flotation\n",
    "- F — share of gold in the feed before flotation\n",
    "- T — share of gold in the rougher tails right after flotation "
   ]
  },
  {
   "cell_type": "markdown",
   "metadata": {},
   "source": [
    "### Prepare the Data\n",
    "---"
   ]
  },
  {
   "cell_type": "code",
   "execution_count": null,
   "metadata": {
    "vscode": {
     "languageId": "plaintext"
    }
   },
   "outputs": [],
   "source": []
  },
  {
   "cell_type": "markdown",
   "metadata": {},
   "source": [
    "### Analyze the Data\n",
    "---"
   ]
  },
  {
   "cell_type": "markdown",
   "metadata": {},
   "source": [
    "### Build and Evaluate Models\n",
    "---"
   ]
  },
  {
   "cell_type": "markdown",
   "metadata": {},
   "source": [
    "### Final Test and Conclusion\n",
    "---"
   ]
  },
  {
   "cell_type": "markdown",
   "metadata": {},
   "source": []
  }
 ],
 "metadata": {
  "language_info": {
   "name": "python"
  }
 },
 "nbformat": 4,
 "nbformat_minor": 2
}
